{
 "cells": [
  {
   "cell_type": "markdown",
   "metadata": {},
   "source": [
    "Notes:\n",
    "- TuxGuitar batch conversion to .mid fails to:\n",
    "    1. convert the number of tracks correctly;\n",
    "    2. assign drums correctly;\n",
    "- TuxGuitar batch conversion to .xml fails to:\n",
    "    1. assign drums correctly;\n",
    "- GuitarPro single conversion to .mid succeeds (although impractical for a large number of files);\n",
    "\n",
    "\n",
    "\n",
    "- **Provisional Solution**:\n",
    "    1. From within GuitarPro -> batch convert all files into .gp (GuitarPro 7 format);\n",
    "    2. Apparently, TuxGuitar handles drums better with this one, so:\n",
    "        2.1 Batch convert all newly created .gp files into MusicXML;\n",
    "    3. MusPy is able to detect number of tracks correctly;\n",
    "    4. MusPy is able to detect drums correctly;"
   ]
  },
  {
   "cell_type": "markdown",
   "metadata": {},
   "source": [
    "**Conversion Process - Provisional Solution**\n",
    "\n",
    "- DadaGP-v1.1 into .gp (GuitarPro7 format):\n",
    "    - 2,5748 files converted to x .gp files;\n",
    "\n",
    "- DadaGP-v1.1-gp7 to MusicXML (using TuxGuitar):\n",
    "    - x .gp files to y .xml files."
   ]
  },
  {
   "cell_type": "code",
   "execution_count": 147,
   "metadata": {},
   "outputs": [],
   "source": [
    "import sys\n",
    "sys.path.append(\"..\") # Adds higher directory to python modules path.\n",
    "\n",
    "import muspy\n",
    "from metrics import *"
   ]
  },
  {
   "cell_type": "code",
   "execution_count": 136,
   "metadata": {},
   "outputs": [],
   "source": [
    "example_path = '/homes/pps30/muspy/gp7-to-xml/gentokens_t_1 (137).xml'"
   ]
  },
  {
   "cell_type": "code",
   "execution_count": 137,
   "metadata": {},
   "outputs": [],
   "source": [
    "# Read .mid file and convert into Music class\n",
    "example = muspy.read(example_path)"
   ]
  },
  {
   "cell_type": "code",
   "execution_count": 138,
   "metadata": {},
   "outputs": [
    {
     "data": {
      "text/plain": [
       "9"
      ]
     },
     "execution_count": 138,
     "metadata": {},
     "output_type": "execute_result"
    }
   ],
   "source": [
    "len(example.tracks)"
   ]
  },
  {
   "cell_type": "code",
   "execution_count": 159,
   "metadata": {},
   "outputs": [
    {
     "data": {
      "text/plain": [
       "Track(program=31, is_drum=False, name='#1', notes=[Note(time=0, pitch=57, duration=240, velocity=64, pitch_str='A3'), Note(time=480, pitch=57, duration=240, velocity=64, pitch_str='A3'), Note(time=960, pitch=57, duration=240, velocity=64, pitch_str='A3'), ...])"
      ]
     },
     "execution_count": 159,
     "metadata": {},
     "output_type": "execute_result"
    }
   ],
   "source": [
    "example.tracks[0]"
   ]
  },
  {
   "cell_type": "code",
   "execution_count": 69,
   "metadata": {},
   "outputs": [
    {
     "data": {
      "text/plain": [
       "0"
      ]
     },
     "execution_count": 69,
     "metadata": {},
     "output_type": "execute_result"
    }
   ],
   "source": [
    "example.tracks[1]."
   ]
  },
  {
   "cell_type": "code",
   "execution_count": 135,
   "metadata": {},
   "outputs": [
    {
     "data": {
      "text/plain": [
       "2.8699247163130117"
      ]
     },
     "execution_count": 135,
     "metadata": {},
     "output_type": "execute_result"
    }
   ],
   "source": [
    "pce = muspy.pitch_class_entropy(example)\n",
    "pce"
   ]
  },
  {
   "cell_type": "code",
   "execution_count": 146,
   "metadata": {},
   "outputs": [
    {
     "data": {
      "text/plain": [
       "588"
      ]
     },
     "execution_count": 146,
     "metadata": {},
     "output_type": "execute_result"
    }
   ],
   "source": [
    "len(example.beats)"
   ]
  },
  {
   "cell_type": "code",
   "execution_count": 154,
   "metadata": {},
   "outputs": [
    {
     "data": {
      "text/plain": [
       "2.8699247163130117"
      ]
     },
     "execution_count": 154,
     "metadata": {},
     "output_type": "execute_result"
    }
   ],
   "source": [
    "pitch_class_entropy(example)"
   ]
  },
  {
   "cell_type": "code",
   "execution_count": null,
   "metadata": {},
   "outputs": [],
   "source": []
  }
 ],
 "metadata": {
  "kernelspec": {
   "display_name": "muspy",
   "language": "python",
   "name": "muspy"
  },
  "language_info": {
   "codemirror_mode": {
    "name": "ipython",
    "version": 3
   },
   "file_extension": ".py",
   "mimetype": "text/x-python",
   "name": "python",
   "nbconvert_exporter": "python",
   "pygments_lexer": "ipython3",
   "version": "3.6.13"
  }
 },
 "nbformat": 4,
 "nbformat_minor": 4
}
